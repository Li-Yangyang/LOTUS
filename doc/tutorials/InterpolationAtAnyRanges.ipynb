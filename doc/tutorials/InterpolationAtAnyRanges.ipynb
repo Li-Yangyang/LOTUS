{
 "cells": [
  {
   "cell_type": "markdown",
   "id": "da2de49f",
   "metadata": {},
   "source": [
    "# Interpolate at any stellar parameter ranges"
   ]
  },
  {
   "cell_type": "code",
   "execution_count": 1,
   "id": "00fc4f7a",
   "metadata": {},
   "outputs": [],
   "source": [
    "from lotus_nlte.gcogs.multigcogs import PolyMultiGCOG\n",
    "from lotus_nlte.config import fetch_EWLIB_MULTI"
   ]
  },
  {
   "cell_type": "markdown",
   "id": "66ac3011",
   "metadata": {},
   "source": [
    "To access the EW library from our calculaition via ```MULTI```, you need call the following function to download the libray from ```Zenodo```. We do not provide it with the installation of LOTUS because of its large size, around 12GB."
   ]
  },
  {
   "cell_type": "code",
   "execution_count": 2,
   "id": "21707606",
   "metadata": {},
   "outputs": [
    {
     "name": "stdout",
     "output_type": "stream",
     "text": [
      "Downloading of the EW library will take around 20 minutes...\n",
      "Downloading takes 18.37 mins\n"
     ]
    }
   ],
   "source": [
    "fetch_EWLIB_MULTI()"
   ]
  },
  {
   "cell_type": "markdown",
   "id": "7ebc1637",
   "metadata": {},
   "source": [
    "After downloading it on your disk, you don't have to redowload it again when callling this funciton next time. And calling it will reminds you of the location of the EW library:"
   ]
  },
  {
   "cell_type": "code",
   "execution_count": 3,
   "id": "b56f4d4b",
   "metadata": {},
   "outputs": [
    {
     "name": "stdout",
     "output_type": "stream",
     "text": [
      "EW library has already existed: /media/yangyangli/OS/yangyangli_private/Code/NLTE/LOTUS-dev/src/lotus_nlte/package_data/EWLIB_largergrid2_v0.h5\n"
     ]
    }
   ],
   "source": [
    "fetch_EWLIB_MULTI()"
   ]
  },
  {
   "cell_type": "markdown",
   "id": "12c27fb3",
   "metadata": {},
   "source": [
    "You can interpolate at any stellar ranges for your star with ```stellar_type```. This can be different with the specific stellar types you saw in the previous tutorials. NOTICE: you have to set ```interpolation=False``` and ```use_tarfile=False``` as the below style:"
   ]
  },
  {
   "cell_type": "code",
   "execution_count": null,
   "id": "2a1aee2d",
   "metadata": {},
   "outputs": [],
   "source": [
    "fp = os.path.dirname(os.path.realpath(__file__))\n",
    "mgcog = PolyMultiGCOG(\"YOUR_STAR_NAME\", stellar_type=\"6000_6850/3.0_5.0/-3.5_-2.0\", \n",
    "                      exp_cutoff=2.70,\n",
    "                      obs_path=\"YOUR_EW_MEASUREMENTS_FILE\",\n",
    "                      cal=\"nlte\", interpolation=False, use_tarfile=False, \n",
    "                      ewdiffpath=\"YOUR_EWDIFF_FILE_PATH\", ewlibpath=os.path.join(fp, \"package_data/EWLIB_largergrid2_v0.h5\"))"
   ]
  }
 ],
 "metadata": {
  "kernelspec": {
   "display_name": "Python 3 (ipykernel)",
   "language": "python",
   "name": "python3"
  },
  "language_info": {
   "codemirror_mode": {
    "name": "ipython",
    "version": 3
   },
   "file_extension": ".py",
   "mimetype": "text/x-python",
   "name": "python",
   "nbconvert_exporter": "python",
   "pygments_lexer": "ipython3",
   "version": "3.7.11"
  }
 },
 "nbformat": 4,
 "nbformat_minor": 5
}
