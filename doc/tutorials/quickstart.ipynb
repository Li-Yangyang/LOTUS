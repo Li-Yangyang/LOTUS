{
 "cells": [
  {
   "cell_type": "markdown",
   "id": "b47047f0",
   "metadata": {},
   "source": [
    "# Quick Start"
   ]
  },
  {
   "cell_type": "markdown",
   "id": "cb67dc2b",
   "metadata": {},
   "source": [
    "## When first import ``LOTUS``"
   ]
  },
  {
   "cell_type": "code",
   "execution_count": 1,
   "id": "a09b0024",
   "metadata": {},
   "outputs": [
    {
     "name": "stderr",
     "output_type": "stream",
     "text": [
      "WARNING (theano.tensor.blas): Using NumPy C-API based implementation for BLAS functions.\n"
     ]
    },
    {
     "name": "stdout",
     "output_type": "stream",
     "text": [
      "lotus_nlte.__version__ = '0.1.1.dev2+g9465f26.d20211121'\n"
     ]
    }
   ],
   "source": [
    "import lotus_nlte\n",
    "lotus_nlte.utils.docs_setup()\n",
    "print(f\"lotus_nlte.__version__ = '{lotus_nlte.__version__}'\")"
   ]
  },
  {
   "cell_type": "markdown",
   "id": "3470dd4e",
   "metadata": {},
   "source": [
    "When you first import ``lotus_nlte``, it will download interpolated models for each line in our \"golden linelist\" with their calculated precision at certain grid points. Once they have been downloaded in your disk, it will be no longer downloaded again for your next run. ``docs_setup()`` mainly collect some warnings created by theano and set up our matplotlib style. This process always costs around 5 mins. You can access the directory of your interpolated models at ``lotus_nlte.config.GCOGDIR`` and the directory of calculated precision files at ``lotus_nlte.config.EWDIFFDIR``:"
   ]
  },
  {
   "cell_type": "code",
   "execution_count": 2,
   "id": "f38e6f01",
   "metadata": {},
   "outputs": [
    {
     "name": "stdout",
     "output_type": "stream",
     "text": [
      "Interpolated General Curve of Growth direcory:'/media/yangyangli/OS/yangyangli_private/Code/NLTE/LOTUS-dev/src/lotus_nlte/package_data/gcoglib/'\n",
      "Interpolated EW precision direcory:'/media/yangyangli/OS/yangyangli_private/Code/NLTE/LOTUS-dev/src/lotus_nlte/package_data/ewdiff/'\n"
     ]
    }
   ],
   "source": [
    "print(f\"Interpolated General Curve of Growth direcory:'{lotus_nlte.config.GCOG_DIR}'\")\n",
    "print(f\"Interpolated EW precision direcory:'{lotus_nlte.config.EWDIFF_DIR}'\")"
   ]
  },
  {
   "cell_type": "markdown",
   "id": "42ad82d1",
   "metadata": {},
   "source": [
    "## Interpolate stellar iron abundance"
   ]
  },
  {
   "cell_type": "markdown",
   "id": "881cece9",
   "metadata": {},
   "source": [
    "You must specify your line information, which region you want to interpolate the abundance via ``stellar_type`` and the type of calculation assumption via ``cal``. Notice that you must set ``interpolated=True`` in ``SingleGCOG``."
   ]
  },
  {
   "cell_type": "code",
   "execution_count": 3,
   "id": "649156f3",
   "metadata": {},
   "outputs": [],
   "source": [
    "from lotus_nlte.gcogs.gcog import SingleGCOG\n",
    "wavelength = 5307.36\n",
    "excitation_potential = 1.61\n",
    "element = \"FeI\"\n",
    "sg = SingleGCOG(wavelength, excitation_potential, element, stellar_type=\"whole_grid\", cal=\"nlte\", interpolated=True)\n",
    "model = sg.load_model()"
   ]
  },
  {
   "cell_type": "code",
   "execution_count": 4,
   "id": "7da2ed5d",
   "metadata": {},
   "outputs": [
    {
     "data": {
      "text/plain": [
       "array([-0.82065384])"
      ]
     },
     "execution_count": 4,
     "metadata": {},
     "output_type": "execute_result"
    }
   ],
   "source": [
    "teff = 5200\n",
    "logg = 2.5\n",
    "vt = 1.5\n",
    "ew = 80\n",
    "model.predict([[teff, logg, vt, ew]])"
   ]
  },
  {
   "cell_type": "markdown",
   "id": "0d4733c8",
   "metadata": {},
   "source": [
    "## Plot interpolated normal Curve of Growth (COG) fixing $\\mathrm{T}_\\mathrm{eff}$, $\\mathrm{log}\\mathit{g}$ and $\\xi_t$"
   ]
  },
  {
   "cell_type": "markdown",
   "id": "e3b12bf1",
   "metadata": {},
   "source": [
    "This can be down fixing $\\mathrm{T}_\\mathrm{eff}$, $\\mathrm{log}\\mathit{g}$ and $\\xi_t$ in the GCOG, the default EWs are from 1 $m\\overset{\\circ}A$ to 100$m\\overset{\\circ}A$. You can define your EWs via ``ews`` in method function ``plot_interpolated_cog``:"
   ]
  },
  {
   "cell_type": "code",
   "execution_count": 5,
   "id": "1aa43f6b",
   "metadata": {},
   "outputs": [
    {
     "data": {
      "image/png": "[encoded data removed]",
      "text/plain": [
       "<Figure size 432x288 with 1 Axes>"
      ]
     },
     "metadata": {
      "needs_background": "light"
     },
     "output_type": "display_data"
    }
   ],
   "source": [
    "%matplotlib inline\n",
    "fig = sg.plot_interpolated_cog(teff, logg, vt)"
   ]
  }
 ],
 "metadata": {
  "kernelspec": {
   "display_name": "Python 3",
   "language": "python",
   "name": "python3"
  },
  "language_info": {
   "codemirror_mode": {
    "name": "ipython",
    "version": 3
   },
   "file_extension": ".py",
   "mimetype": "text/x-python",
   "name": "python",
   "nbconvert_exporter": "python",
   "pygments_lexer": "ipython3",
   "version": "3.7.11"
  }
 },
 "nbformat": 4,
 "nbformat_minor": 5
}
